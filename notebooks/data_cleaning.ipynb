{
 "cells": [
  {
   "cell_type": "code",
   "execution_count": 14,
   "metadata": {},
   "outputs": [],
   "source": [
    "import pandas as pd \n",
    "from scipy import stats\n",
    "import numpy as np"
   ]
  },
  {
   "cell_type": "code",
   "execution_count": 15,
   "metadata": {},
   "outputs": [
    {
     "output_type": "execute_result",
     "data": {
      "text/plain": "   Region  Country State     City  Month  Day  Year  AvgTemperature\n0  Africa  Algeria   NaN  Algiers      1    1  1995            64.2\n1  Africa  Algeria   NaN  Algiers      1    2  1995            49.4\n2  Africa  Algeria   NaN  Algiers      1    3  1995            48.8\n3  Africa  Algeria   NaN  Algiers      1    4  1995            46.4\n4  Africa  Algeria   NaN  Algiers      1    5  1995            47.9",
      "text/html": "<div>\n<style scoped>\n    .dataframe tbody tr th:only-of-type {\n        vertical-align: middle;\n    }\n\n    .dataframe tbody tr th {\n        vertical-align: top;\n    }\n\n    .dataframe thead th {\n        text-align: right;\n    }\n</style>\n<table border=\"1\" class=\"dataframe\">\n  <thead>\n    <tr style=\"text-align: right;\">\n      <th></th>\n      <th>Region</th>\n      <th>Country</th>\n      <th>State</th>\n      <th>City</th>\n      <th>Month</th>\n      <th>Day</th>\n      <th>Year</th>\n      <th>AvgTemperature</th>\n    </tr>\n  </thead>\n  <tbody>\n    <tr>\n      <th>0</th>\n      <td>Africa</td>\n      <td>Algeria</td>\n      <td>NaN</td>\n      <td>Algiers</td>\n      <td>1</td>\n      <td>1</td>\n      <td>1995</td>\n      <td>64.2</td>\n    </tr>\n    <tr>\n      <th>1</th>\n      <td>Africa</td>\n      <td>Algeria</td>\n      <td>NaN</td>\n      <td>Algiers</td>\n      <td>1</td>\n      <td>2</td>\n      <td>1995</td>\n      <td>49.4</td>\n    </tr>\n    <tr>\n      <th>2</th>\n      <td>Africa</td>\n      <td>Algeria</td>\n      <td>NaN</td>\n      <td>Algiers</td>\n      <td>1</td>\n      <td>3</td>\n      <td>1995</td>\n      <td>48.8</td>\n    </tr>\n    <tr>\n      <th>3</th>\n      <td>Africa</td>\n      <td>Algeria</td>\n      <td>NaN</td>\n      <td>Algiers</td>\n      <td>1</td>\n      <td>4</td>\n      <td>1995</td>\n      <td>46.4</td>\n    </tr>\n    <tr>\n      <th>4</th>\n      <td>Africa</td>\n      <td>Algeria</td>\n      <td>NaN</td>\n      <td>Algiers</td>\n      <td>1</td>\n      <td>5</td>\n      <td>1995</td>\n      <td>47.9</td>\n    </tr>\n  </tbody>\n</table>\n</div>"
     },
     "metadata": {},
     "execution_count": 15
    }
   ],
   "source": [
    "df = pd.read_csv('../data/clean_city_temp.csv')\n",
    "df.head()"
   ]
  },
  {
   "cell_type": "code",
   "execution_count": 12,
   "metadata": {
    "tags": []
   },
   "outputs": [
    {
     "output_type": "stream",
     "name": "stdout",
     "text": "\n"
    }
   ],
   "source": [
    "print()"
   ]
  },
  {
   "cell_type": "code",
   "execution_count": 16,
   "metadata": {},
   "outputs": [],
   "source": [
    "df_copy = df.copy()"
   ]
  },
  {
   "cell_type": "code",
   "execution_count": 4,
   "metadata": {},
   "outputs": [
    {
     "output_type": "execute_result",
     "data": {
      "text/plain": "   Region  Country State     City  Month  Day  Year  AvgTemperature\n0  Africa  Algeria        Algiers      1    1  1995            64.2\n1  Africa  Algeria        Algiers      1    2  1995            49.4\n2  Africa  Algeria        Algiers      1    3  1995            48.8\n3  Africa  Algeria        Algiers      1    4  1995            46.4\n4  Africa  Algeria        Algiers      1    5  1995            47.9",
      "text/html": "<div>\n<style scoped>\n    .dataframe tbody tr th:only-of-type {\n        vertical-align: middle;\n    }\n\n    .dataframe tbody tr th {\n        vertical-align: top;\n    }\n\n    .dataframe thead th {\n        text-align: right;\n    }\n</style>\n<table border=\"1\" class=\"dataframe\">\n  <thead>\n    <tr style=\"text-align: right;\">\n      <th></th>\n      <th>Region</th>\n      <th>Country</th>\n      <th>State</th>\n      <th>City</th>\n      <th>Month</th>\n      <th>Day</th>\n      <th>Year</th>\n      <th>AvgTemperature</th>\n    </tr>\n  </thead>\n  <tbody>\n    <tr>\n      <th>0</th>\n      <td>Africa</td>\n      <td>Algeria</td>\n      <td></td>\n      <td>Algiers</td>\n      <td>1</td>\n      <td>1</td>\n      <td>1995</td>\n      <td>64.2</td>\n    </tr>\n    <tr>\n      <th>1</th>\n      <td>Africa</td>\n      <td>Algeria</td>\n      <td></td>\n      <td>Algiers</td>\n      <td>1</td>\n      <td>2</td>\n      <td>1995</td>\n      <td>49.4</td>\n    </tr>\n    <tr>\n      <th>2</th>\n      <td>Africa</td>\n      <td>Algeria</td>\n      <td></td>\n      <td>Algiers</td>\n      <td>1</td>\n      <td>3</td>\n      <td>1995</td>\n      <td>48.8</td>\n    </tr>\n    <tr>\n      <th>3</th>\n      <td>Africa</td>\n      <td>Algeria</td>\n      <td></td>\n      <td>Algiers</td>\n      <td>1</td>\n      <td>4</td>\n      <td>1995</td>\n      <td>46.4</td>\n    </tr>\n    <tr>\n      <th>4</th>\n      <td>Africa</td>\n      <td>Algeria</td>\n      <td></td>\n      <td>Algiers</td>\n      <td>1</td>\n      <td>5</td>\n      <td>1995</td>\n      <td>47.9</td>\n    </tr>\n  </tbody>\n</table>\n</div>"
     },
     "metadata": {},
     "execution_count": 4
    }
   ],
   "source": [
    "df_copy['State'] = df_copy['State'].fillna('')\n",
    "df_copy.head()"
   ]
  },
  {
   "cell_type": "code",
   "execution_count": 17,
   "metadata": {},
   "outputs": [],
   "source": [
    "df_copy = df_copy[df_copy['AvgTemperature']>-80]"
   ]
  },
  {
   "cell_type": "code",
   "execution_count": 5,
   "metadata": {},
   "outputs": [
    {
     "output_type": "execute_result",
     "data": {
      "text/plain": "Region            0\nCountry           0\nState             0\nCity              0\nMonth             0\nDay               0\nYear              0\nAvgTemperature    0\ndtype: int64"
     },
     "metadata": {},
     "execution_count": 5
    }
   ],
   "source": [
    "df_copy.isna().sum()"
   ]
  },
  {
   "cell_type": "code",
   "execution_count": 6,
   "metadata": {},
   "outputs": [],
   "source": [
    "df_copy.to_csv('../data/clean_city_temp.csv', index=False)"
   ]
  },
  {
   "cell_type": "code",
   "execution_count": null,
   "metadata": {},
   "outputs": [],
   "source": []
  }
 ],
 "metadata": {
  "language_info": {
   "codemirror_mode": {
    "name": "ipython",
    "version": 3
   },
   "file_extension": ".py",
   "mimetype": "text/x-python",
   "name": "python",
   "nbconvert_exporter": "python",
   "pygments_lexer": "ipython3",
   "version": "3.7.6-final"
  },
  "orig_nbformat": 2,
  "kernelspec": {
   "name": "python3",
   "display_name": "Python 3"
  }
 },
 "nbformat": 4,
 "nbformat_minor": 2
}